{
  "nbformat": 4,
  "nbformat_minor": 0,
  "metadata": {
    "colab": {
      "provenance": []
    },
    "kernelspec": {
      "name": "python3",
      "display_name": "Python 3"
    },
    "language_info": {
      "name": "python"
    }
  },
  "cells": [
    {
      "cell_type": "code",
      "execution_count": 96,
      "metadata": {
        "colab": {
          "base_uri": "https://localhost:8080/",
          "height": 397
        },
        "id": "Ux3dZR_I8Ykl",
        "outputId": "37dc2fa4-a87d-4abd-ea82-1d64220dcba6"
      },
      "outputs": [
        {
          "name": "stdout",
          "output_type": "stream",
          "text": [
            "Please input a positive integer as your number of terms: -0.5\n"
          ]
        },
        {
          "output_type": "error",
          "ename": "ValueError",
          "evalue": "ignored",
          "traceback": [
            "\u001b[0;31m---------------------------------------------------------------------------\u001b[0m",
            "\u001b[0;31mValueError\u001b[0m                                Traceback (most recent call last)",
            "\u001b[0;32m<ipython-input-96-867bad038962>\u001b[0m in \u001b[0;36m<cell line: 60>\u001b[0;34m()\u001b[0m\n\u001b[1;32m     58\u001b[0m   \u001b[0;32mreturn\u001b[0m\u001b[0;34m\u001b[0m\u001b[0;34m\u001b[0m\u001b[0m\n\u001b[1;32m     59\u001b[0m \u001b[0;34m\u001b[0m\u001b[0m\n\u001b[0;32m---> 60\u001b[0;31m \u001b[0mmain\u001b[0m\u001b[0;34m(\u001b[0m\u001b[0;34m)\u001b[0m\u001b[0;34m\u001b[0m\u001b[0;34m\u001b[0m\u001b[0m\n\u001b[0m\u001b[1;32m     61\u001b[0m \u001b[0;34m\u001b[0m\u001b[0m\n\u001b[1;32m     62\u001b[0m \u001b[0;34m\u001b[0m\u001b[0m\n",
            "\u001b[0;32m<ipython-input-96-867bad038962>\u001b[0m in \u001b[0;36mmain\u001b[0;34m()\u001b[0m\n\u001b[1;32m     47\u001b[0m \u001b[0;32mdef\u001b[0m \u001b[0mmain\u001b[0m\u001b[0;34m(\u001b[0m\u001b[0;34m)\u001b[0m\u001b[0;34m:\u001b[0m\u001b[0;34m\u001b[0m\u001b[0;34m\u001b[0m\u001b[0m\n\u001b[1;32m     48\u001b[0m \u001b[0;34m\u001b[0m\u001b[0m\n\u001b[0;32m---> 49\u001b[0;31m   \u001b[0mterms\u001b[0m \u001b[0;34m=\u001b[0m \u001b[0mgetterm\u001b[0m\u001b[0;34m(\u001b[0m\u001b[0;34m)\u001b[0m\u001b[0;34m\u001b[0m\u001b[0;34m\u001b[0m\u001b[0m\n\u001b[0m\u001b[1;32m     50\u001b[0m \u001b[0;34m\u001b[0m\u001b[0m\n\u001b[1;32m     51\u001b[0m   \u001b[0;32mif\u001b[0m \u001b[0mterms\u001b[0m \u001b[0;34m>\u001b[0m \u001b[0;36m0\u001b[0m\u001b[0;34m:\u001b[0m\u001b[0;34m\u001b[0m\u001b[0;34m\u001b[0m\u001b[0m\n",
            "\u001b[0;32m<ipython-input-96-867bad038962>\u001b[0m in \u001b[0;36mgetterm\u001b[0;34m()\u001b[0m\n\u001b[1;32m      6\u001b[0m \u001b[0;34m\u001b[0m\u001b[0m\n\u001b[1;32m      7\u001b[0m \u001b[0;32mdef\u001b[0m \u001b[0mgetterm\u001b[0m\u001b[0;34m(\u001b[0m\u001b[0;34m)\u001b[0m\u001b[0;34m:\u001b[0m\u001b[0;34m\u001b[0m\u001b[0;34m\u001b[0m\u001b[0m\n\u001b[0;32m----> 8\u001b[0;31m     \u001b[0mterms\u001b[0m \u001b[0;34m=\u001b[0m \u001b[0mint\u001b[0m\u001b[0;34m(\u001b[0m\u001b[0minput\u001b[0m\u001b[0;34m(\u001b[0m\u001b[0;34m\"Please input a positive integer as your number of terms: \"\u001b[0m\u001b[0;34m)\u001b[0m\u001b[0;34m)\u001b[0m  \u001b[0;31m# how many terms + what to print out later\u001b[0m\u001b[0;34m\u001b[0m\u001b[0;34m\u001b[0m\u001b[0m\n\u001b[0m\u001b[1;32m      9\u001b[0m     \u001b[0;32mreturn\u001b[0m \u001b[0mterms\u001b[0m\u001b[0;34m\u001b[0m\u001b[0;34m\u001b[0m\u001b[0m\n\u001b[1;32m     10\u001b[0m \u001b[0;34m\u001b[0m\u001b[0m\n",
            "\u001b[0;31mValueError\u001b[0m: invalid literal for int() with base 10: '-0.5'"
          ]
        }
      ],
      "source": [
        "# Fibonacci with random subtraction / addition\n",
        "# - Tamara Puskarevic - 6/1/2023\n",
        "# Input a positive integer (including 0) to receive the result of that term\n",
        "# Negative numbers are invalid\n",
        "import random \n",
        "\n",
        "def getterm():\n",
        "    terms = int(input(\"Please input a positive integer as your number of terms: \"))  # how many terms + what to print out later\n",
        "    return terms\n",
        "\n",
        "\n",
        "def fibonaccifunc(terms):\n",
        "    \n",
        "  print( \"\\nThe process of getting term number \", terms, \": \\n\") \n",
        "\n",
        "  fp = 0 #previous term\n",
        "  fc = 1 #current term\n",
        "  listofresults = []\n",
        "  suab = (-1, 1) #subtract or add\n",
        "\n",
        "  for n in range(terms):\n",
        "    operate = random.choice(suab) #random operation \n",
        "    fn = fc + (operate)*fp      # fn is the new term\n",
        "\n",
        "    # print out process  \n",
        "    if operate == -1:\n",
        "      print(\"subtract \", fp, \" from \", fc)\n",
        "    if operate == 1:\n",
        "      print(\"add\", fp, \" to \", fc)\n",
        "\n",
        "    print(fn, \" is the value of term number \", n)    # result\n",
        "    \n",
        "    #update\n",
        "    fp = fc\n",
        "    fc = fn\n",
        "    listofresults.append(fn) \n",
        "\n",
        "  #final results\n",
        "  print(  \" \\nHere's the list of results: \", listofresults)\n",
        "\n",
        "  print( \"Term number \", n + 1, \" is \", listofresults[n])\n",
        "  return ()\n",
        "\n",
        "\n",
        "# main function\n",
        "\n",
        "def main():\n",
        "\n",
        "  terms = getterm() \n",
        "\n",
        "  # making sure the number is not negative\n",
        "  if terms > 0:\n",
        "    fibonaccifunc(terms) \n",
        "  elif terms == 0:\n",
        "    print(\"Term number 0 is 1\")\n",
        "  else: \n",
        "    print(\"Try again, negative numbers are invalid.\")\n",
        "    main()\n",
        "  return \n",
        "\n",
        "main()\n",
        "\n",
        "\n"
      ]
    }
  ]
}
